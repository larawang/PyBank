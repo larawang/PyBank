{
 "cells": [
  {
   "cell_type": "code",
   "execution_count": 48,
   "id": "1f5ac290-6fc8-4210-bb11-c6a053db8149",
   "metadata": {},
   "outputs": [
    {
     "name": "stdout",
     "output_type": "stream",
     "text": [
      "86\n",
      "38382578\n",
      "-2315.1176470588234\n",
      "Profit/Losses    1926159.0\n",
      "Name: Feb-2012, dtype: float64\n",
      "Profit/Losses   -2196167.0\n",
      "Name: Sep-2013, dtype: float64\n"
     ]
    }
   ],
   "source": [
    "# initial imports\n",
    "import pandas as pd\n",
    "from pathlib import Path\n",
    "file_path = Path('../PyBank/02-Python_Homework_Instructions_PyBank_Resources_budget_data.csv')\n",
    "df = pd.read_csv(file_path)\n",
    "df.head()\n",
    "\n",
    "##The total number of months included in the dataset.\n",
    "total_months=len(df.Date)\n",
    "print(total_months)\n",
    "\n",
    "##The net total amount of Profit/Losses over the entire period.\n",
    "column_name=\"Profit/Losses\"\n",
    "net_total_amount=df[column_name].sum()\n",
    "print(net_total_amount)\n",
    "\n",
    "##The average of the changes in Profit/Losses over the entire period.\n",
    "df=df.set_index('Date')\n",
    "df=df.diff()\n",
    "column_name=\"Profit/Losses\"\n",
    "average_change_amount=df[column_name].mean()\n",
    "print(change_average_amount)\n",
    "\n",
    "##The greatest increase in profits (date and amount) over the entire period.\n",
    "greatest_increase_profits=df.loc[df[\"Profit/Losses\"].idxmax()]\n",
    "print(greatest_increase_profits)\n",
    "\n",
    "##The greatest decrease in losses (date and amount) over the entire period.\n",
    "greatest_decrease_losses=df.loc[df[\"Profit/Losses\"].idxmin()]\n",
    "print(greatest_decrease_losses)"
   ]
  },
  {
   "cell_type": "code",
   "execution_count": 73,
   "id": "97acfe47-3c66-4140-9f8f-4907fc59ec97",
   "metadata": {},
   "outputs": [
    {
     "name": "stdout",
     "output_type": "stream",
     "text": [
      "Financial Analysis\n",
      "----------------------\n",
      "Total Months:86\n",
      "Net Total Amount:38382578\n",
      "Average Changes:-2315.1176470588234\n",
      "Greatest Increase Profit:Profit/Losses    1926159.0\n",
      "Name: Feb-2012, dtype: float64\n",
      "Greatest Decrease Losses:Profit/Losses   -2196167.0\n",
      "Name: Sep-2013, dtype: float64\n"
     ]
    }
   ],
   "source": [
    "print(\"Financial Analysis\")\n",
    "print(\"----------------------\")\n",
    "print(f\"Total Months:{total_months}\")\n",
    "print(f\"Net Total Amount:{net_total_amount}\")\n",
    "print(f\"Average Changes:{average_change_amount}\")\n",
    "print(f\"Greatest Increase Profit:{greatest_increase_profits}\")\n",
    "print(f\"Greatest Decrease Losses:{greatest_decrease_losses}\")"
   ]
  },
  {
   "cell_type": "code",
   "execution_count": 78,
   "id": "a0b4c338-5845-4286-abad-8828c8ab8c71",
   "metadata": {},
   "outputs": [],
   "source": [
    "output=open(\"output.txt\",\"a\")\n",
    "\n",
    "line1=\"Financial Analysis\"\n",
    "line2=\"--------------------\"\n",
    "line3=str(f\"Total:${str(total_months)}\")\n",
    "line4=str(f\"Total:${str(net_total_amount)}\")\n",
    "line5=str(f\"Average Change:${str(change_average_amount)}\")\n",
    "line6=str(f\"Greatest Increases:${str(greatest_increase_profits)}\")\n",
    "line7=str(f\"Greatest Decreases:${str(greatest_decrease_losses)}\")\n",
    "output.write('{}\\n{}\\n{}\\n{}\\n{}\\n{}\\n{}\\n'.format(line1,line2,line3,line4,line5,line6,line7))\n",
    "output.close()"
   ]
  },
  {
   "cell_type": "code",
   "execution_count": null,
   "id": "fa04cd05-31b3-40be-88fa-c81b4dc6138d",
   "metadata": {},
   "outputs": [],
   "source": []
  }
 ],
 "metadata": {
  "kernelspec": {
   "display_name": "Python 3",
   "language": "python",
   "name": "python3"
  },
  "language_info": {
   "codemirror_mode": {
    "name": "ipython",
    "version": 3
   },
   "file_extension": ".py",
   "mimetype": "text/x-python",
   "name": "python",
   "nbconvert_exporter": "python",
   "pygments_lexer": "ipython3",
   "version": "3.8.5"
  }
 },
 "nbformat": 4,
 "nbformat_minor": 5
}
